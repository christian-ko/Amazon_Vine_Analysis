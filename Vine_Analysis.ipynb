{
 "cells": [
  {
   "cell_type": "code",
   "execution_count": null,
   "id": "welcome-sound",
   "metadata": {},
   "outputs": [],
   "source": [
    "import os\n",
    "# Find the latest version of spark 2.0  from http://www-us.apache.org/dist/spark/ and enter as the spark version\n",
    "# For example:\n",
    "# spark_version = 'spark-3.0.0'\n",
    "spark_version = 'spark-3.1.1'\n",
    "os.environ['SPARK_VERSION']=spark_version\n",
    "\n",
    "# Install Spark and Java\n",
    "!apt-get update\n",
    "!apt-get install openjdk-11-jdk-headless -qq > /dev/null\n",
    "!wget -q http://www-us.apache.org/dist/spark/$SPARK_VERSION/$SPARK_VERSION-bin-hadoop2.7.tgz\n",
    "!tar xf $SPARK_VERSION-bin-hadoop2.7.tgz\n",
    "!pip install -q findspark\n",
    "\n",
    "# Set Environment Variables\n",
    "import os\n",
    "os.environ[\"JAVA_HOME\"] = \"/usr/lib/jvm/java-11-openjdk-amd64\"\n",
    "os.environ[\"SPARK_HOME\"] = f\"/content/{spark_version}-bin-hadoop2.7\"\n",
    "\n",
    "# Start a SparkSession\n",
    "import findspark\n",
    "findspark.init()"
   ]
  },
  {
   "cell_type": "code",
   "execution_count": null,
   "id": "generous-railway",
   "metadata": {},
   "outputs": [],
   "source": [
    "# Start a spark session\n",
    "from pyspark.sql import SparkSession\n",
    "spark = SparkSession.builder.appName(\"Vine_Review_Analysis\").getOrCreate()"
   ]
  },
  {
   "cell_type": "code",
   "execution_count": null,
   "id": "recognized-beauty",
   "metadata": {},
   "outputs": [],
   "source": [
    "from pyspark import SparkFiles\n",
    "url = \"https://s3.amazonaws.com/amazon-reviews-pds/tsv/amazon_reviews_us_Furniture_v1_00.tsv.gz\"\n",
    "spark.sparkContext.addFile(url)\n",
    "df = spark.read.option(\"encoding\", \"UTF-8\").csv(SparkFiles.get(\"\"), sep=\"\\t\", header=True, inferSchema=True)\n",
    "df.show()"
   ]
  },
  {
   "cell_type": "code",
   "execution_count": null,
   "id": "continent-zealand",
   "metadata": {},
   "outputs": [],
   "source": [
    "# Create the vine_table. DataFrame\n",
    "vine_df = df.select([\"review_id\", \"star_rating\", \"helpful_votes\", \"total_votes\", \"vine\", \"verified_purchase\"])\n",
    "vine_df.show()"
   ]
  },
  {
   "cell_type": "code",
   "execution_count": null,
   "id": "european-precipitation",
   "metadata": {},
   "outputs": [],
   "source": [
    "# retrieve all the rows where the number of helpful_votes divided by total_votes is equal to or greater than 50%\n",
    "more_votes = vine_df.filter(vine_df[\"total_votes\"] > 20)\n",
    "more_votes.show()"
   ]
  },
  {
   "cell_type": "code",
   "execution_count": null,
   "id": "constant-criminal",
   "metadata": {},
   "outputs": [],
   "source": [
    "# Filter for rows with helpful votes making up 50% or more of all votes\n",
    "most_helpful = more_votes.filter((more_votes[\"helpful_votes\"]/more_votes[\"total_votes\"]) >= 0.5)\n",
    "most_helpful.show()"
   ]
  },
  {
   "cell_type": "code",
   "execution_count": null,
   "id": "stone-edition",
   "metadata": {},
   "outputs": [],
   "source": [
    "# retrieves all the rows where a review was written as part of the Vine program (paid), vine == 'Y'\n",
    "paid_reviews = most_helpful.filter(most_helpful[\"vine\"] == \"Y\")\n",
    "paid_reviews.show()"
   ]
  },
  {
   "cell_type": "code",
   "execution_count": null,
   "id": "fifteen-dealer",
   "metadata": {},
   "outputs": [],
   "source": [
    "# retrieve all the rows where the review was not part of the Vine program (unpaid), vine == 'N'\n",
    "unpaid_reviews = most_helpful.filter(most_helpful[\"vine\"] == \"N\")\n",
    "unpaid_reviews.show()"
   ]
  },
  {
   "cell_type": "code",
   "execution_count": null,
   "id": "federal-concern",
   "metadata": {},
   "outputs": [],
   "source": [
    "# Determine total number of reviews, number of 5-star reviews, and percentage of 5-star reviews paid vs unpaid"
   ]
  },
  {
   "cell_type": "code",
   "execution_count": null,
   "id": "educated-sierra",
   "metadata": {},
   "outputs": [],
   "source": [
    "total_reviews = paid_reviews.count() + unpaid_reviews.count()\n",
    "print(f'There are {total_reviews} total reviews')"
   ]
  },
  {
   "cell_type": "code",
   "execution_count": null,
   "id": "absent-desktop",
   "metadata": {},
   "outputs": [],
   "source": [
    "paid_reviews_count = paid_reviews.count()\n",
    "unpaid_reviews_count = unpaid_reviews.count()\n",
    "print(f'There are {paid_reviews_count} from vine users and {unpaid_reviews_count} from regular users.')"
   ]
  },
  {
   "cell_type": "code",
   "execution_count": null,
   "id": "functioning-trust",
   "metadata": {},
   "outputs": [],
   "source": [
    "paid_five_star = paid_reviews.filter(paid_reviews.star_rating == 5).count()\n",
    "unpaid_five_star = unpaid_reviews.filter(unpaid_reviews.star_rating == 5).count()\n",
    "print(f\"There are {paid_five_star} five star reviews from vine users and {unpaid_five_star} from non-vine users.\")"
   ]
  },
  {
   "cell_type": "code",
   "execution_count": null,
   "id": "sunrise-uncle",
   "metadata": {},
   "outputs": [],
   "source": [
    "paid_reviews_percent = (paid_five_star / paid_reviews_count) * 100\n",
    "unpaid_reviews_percent = (unpaid_five_star / unpaid_reviews_count) * 100\n",
    "print(f\"{paid_reviews_percent: .2f}% of reviews from vine users are 5-star and {unpaid_reviews_percent:.2f}% of reviews from non-vine users are 5-star.\")"
   ]
  }
 ],
 "metadata": {
  "kernelspec": {
   "display_name": "Python 3",
   "language": "python",
   "name": "python3"
  },
  "language_info": {
   "codemirror_mode": {
    "name": "ipython",
    "version": 3
   },
   "file_extension": ".py",
   "mimetype": "text/x-python",
   "name": "python",
   "nbconvert_exporter": "python",
   "pygments_lexer": "ipython3",
   "version": "3.9.2"
  }
 },
 "nbformat": 4,
 "nbformat_minor": 5
}
